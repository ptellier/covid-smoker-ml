{
 "cells": [
  {
   "cell_type": "code",
   "execution_count": 2,
   "metadata": {
    "ExecuteTime": {
     "start_time": "2023-04-10T17:47:16.856576Z",
     "end_time": "2023-04-10T17:47:17.991974Z"
    }
   },
   "outputs": [],
   "source": [
    "from sklearn import *\n",
    "import pandas as pd\n"
   ]
  },
  {
   "cell_type": "code",
   "execution_count": 3,
   "outputs": [
    {
     "name": "stdout",
     "output_type": "stream",
     "text": [
      "DF SMOKER\n",
      "       TMPRSS2  IL6R  IL6ST  PCSK1   IL6  PCSK2  CTSE  MYRF  MAG  MOG  ...  \\\n",
      "0          0.0   0.0    0.0    0.0   0.0    0.0   0.0   0.0  0.0  0.0  ...   \n",
      "1          0.0   0.0    4.0    0.0  14.0    0.0   0.0   0.0  0.0  0.0  ...   \n",
      "2          0.0   0.0    0.0    0.0  20.0    0.0   0.0   0.0  0.0  0.0  ...   \n",
      "3          0.0   1.0    0.0    0.0   1.0    0.0   0.0   0.0  0.0  0.0  ...   \n",
      "4          0.0   0.0    0.0    0.0   0.0    0.0   0.0   0.0  0.0  0.0  ...   \n",
      "...        ...   ...    ...    ...   ...    ...   ...   ...  ...  ...  ...   \n",
      "96781      0.0   0.0    3.0    0.0   0.0    0.0   0.0   0.0  0.0  0.0  ...   \n",
      "96782      1.0   0.0    3.0    0.0   0.0    0.0   0.0   0.0  0.0  0.0  ...   \n",
      "96783      0.0   0.0    0.0    0.0   0.0    0.0   0.0   0.0  0.0  0.0  ...   \n",
      "96784      0.0   0.0    0.0    0.0   0.0    0.0   0.0   0.0  0.0  0.0  ...   \n",
      "96785      0.0   1.0    1.0    0.0   0.0    0.0   0.0   0.0  0.0  0.0  ...   \n",
      "\n",
      "       PCSK7  C1R   C2   C3   C5  CFI  CTSS  CTSL  CTSB  CTSC  \n",
      "0        0.0  0.0  0.0  0.0  0.0  0.0   0.0   1.0   4.0   6.0  \n",
      "1        3.0  1.0  0.0  1.0  0.0  0.0   1.0   0.0  16.0   5.0  \n",
      "2        0.0  0.0  0.0  0.0  0.0  1.0   1.0   0.0   2.0   0.0  \n",
      "3        0.0  0.0  0.0  2.0  0.0  0.0   5.0   0.0   8.0   0.0  \n",
      "4        0.0  0.0  0.0  0.0  0.0  0.0   0.0   0.0   0.0   0.0  \n",
      "...      ...  ...  ...  ...  ...  ...   ...   ...   ...   ...  \n",
      "96781    1.0  0.0  0.0  1.0  0.0  0.0   0.0   0.0   6.0   1.0  \n",
      "96782    1.0  0.0  0.0  0.0  0.0  0.0   2.0   0.0   1.0   0.0  \n",
      "96783    0.0  0.0  0.0  1.0  0.0  0.0   0.0   0.0   7.0   0.0  \n",
      "96784    0.0  0.0  0.0  0.0  0.0  0.0   0.0   0.0   5.0   1.0  \n",
      "96785    0.0  1.0  0.0  0.0  0.0  0.0   0.0   1.0   1.0   0.0  \n",
      "\n",
      "[96786 rows x 26 columns]\n",
      "DF NON-SMOKER\n",
      "        TMPRSS2  IL6R  IL6ST  PCSK1  IL6  PCSK2  CTSE  MYRF  MAG  MOG  ...  \\\n",
      "0           0.0   0.0    0.0    0.0  0.0    0.0   0.0   0.0  0.0  0.0  ...   \n",
      "1           0.0   0.0    0.0    0.0  0.0    0.0   0.0   0.0  0.0  0.0  ...   \n",
      "2           0.0   0.0    0.0    0.0  0.0    0.0   0.0   0.0  0.0  0.0  ...   \n",
      "3           0.0   0.0    0.0    0.0  0.0    0.0   0.0   0.0  0.0  0.0  ...   \n",
      "4           0.0   1.0    0.0    0.0  0.0    0.0   0.0   0.0  0.0  0.0  ...   \n",
      "...         ...   ...    ...    ...  ...    ...   ...   ...  ...  ...  ...   \n",
      "277219      0.0   0.0    0.0    0.0  0.0    0.0   0.0   0.0  0.0  0.0  ...   \n",
      "277220      0.0   0.0    0.0    0.0  0.0    0.0   0.0   0.0  0.0  0.0  ...   \n",
      "277221      0.0   1.0    2.0    0.0  0.0    0.0   0.0   0.0  0.0  0.0  ...   \n",
      "277222      0.0   0.0   13.0    0.0  9.0    0.0   0.0   0.0  0.0  0.0  ...   \n",
      "277223      0.0   0.0    0.0    0.0  0.0    0.0   0.0   0.0  0.0  0.0  ...   \n",
      "\n",
      "        PCSK7  C1R   C2   C3   C5  CFI  CTSS  CTSL  CTSB  CTSC  \n",
      "0         0.0  0.0  0.0  0.0  0.0  0.0   0.0   0.0   1.0   0.0  \n",
      "1         1.0  0.0  0.0  1.0  0.0  0.0   1.0   0.0   5.0   1.0  \n",
      "2         0.0  0.0  0.0  0.0  0.0  0.0   1.0   0.0   0.0   0.0  \n",
      "3         0.0  0.0  0.0  0.0  0.0  0.0   0.0   0.0   1.0   0.0  \n",
      "4         0.0  0.0  0.0  3.0  0.0  0.0   1.0   0.0   6.0   1.0  \n",
      "...       ...  ...  ...  ...  ...  ...   ...   ...   ...   ...  \n",
      "277219    1.0  0.0  0.0  0.0  0.0  0.0   0.0   0.0   0.0   0.0  \n",
      "277220    0.0  0.0  0.0  0.0  0.0  0.0   0.0   0.0   0.0   0.0  \n",
      "277221    0.0  4.0  0.0  2.0  0.0  0.0   0.0   0.0   2.0   0.0  \n",
      "277222    0.0  0.0  0.0  0.0  0.0  2.0   1.0   0.0   0.0   0.0  \n",
      "277223    0.0  0.0  0.0  0.0  0.0  0.0   0.0   0.0   1.0   0.0  \n",
      "\n",
      "[277224 rows x 26 columns]\n"
     ]
    }
   ],
   "source": [
    "# Read textfiles into dataframes\n",
    "df_smoker = pd.read_csv('./data/internal_smokerslung.expression.txt', sep=\"\\t\", index_col=0).transpose()\n",
    "df_non_smoker = pd.read_csv('./data/internal_nonsmokerslung.expression.txt', sep=\"\\t\", index_col=0).transpose()\n",
    "df_smoker = df_smoker.drop(df_smoker.columns[0], axis=1)\n",
    "df_smoker = df_smoker.reset_index(drop=True);\n",
    "df_non_smoker = df_non_smoker.drop(df_non_smoker.columns[0], axis=1)\n",
    "df_non_smoker = df_non_smoker.reset_index(drop=True);\n",
    "print (\"DF SMOKER\");\n",
    "print(df_smoker);\n",
    "print(\"DF NON-SMOKER\");\n",
    "print(df_non_smoker);"
   ],
   "metadata": {
    "collapsed": false,
    "ExecuteTime": {
     "start_time": "2023-04-10T17:47:17.995697Z",
     "end_time": "2023-04-10T17:48:01.226913Z"
    }
   }
  },
  {
   "cell_type": "code",
   "execution_count": 4,
   "outputs": [
    {
     "name": "stdout",
     "output_type": "stream",
     "text": [
      "96786\n",
      "277224\n",
      "BALANCED\n",
      "        TMPRSS2  IL6R  IL6ST  PCSK1   IL6  PCSK2  CTSE  MYRF  MAG  MOG  ...  \\\n",
      "0           0.0   0.0    0.0    0.0   0.0    0.0   0.0   0.0  0.0  0.0  ...   \n",
      "1           0.0   0.0    4.0    0.0  14.0    0.0   0.0   0.0  0.0  0.0  ...   \n",
      "2           0.0   0.0    0.0    0.0  20.0    0.0   0.0   0.0  0.0  0.0  ...   \n",
      "3           0.0   1.0    0.0    0.0   1.0    0.0   0.0   0.0  0.0  0.0  ...   \n",
      "4           0.0   0.0    0.0    0.0   0.0    0.0   0.0   0.0  0.0  0.0  ...   \n",
      "...         ...   ...    ...    ...   ...    ...   ...   ...  ...  ...  ...   \n",
      "193567      0.0   0.0    0.0    0.0   0.0    0.0   0.0   0.0  0.0  0.0  ...   \n",
      "193568      0.0   0.0    0.0    0.0   9.0    0.0   0.0   0.0  0.0  0.0  ...   \n",
      "193569      1.0   0.0    0.0    0.0   0.0    0.0   0.0   0.0  0.0  0.0  ...   \n",
      "193570      0.0   0.0    2.0    0.0   0.0    0.0   0.0   0.0  0.0  0.0  ...   \n",
      "193571      0.0   0.0    1.0    0.0   0.0    0.0   0.0   0.0  0.0  0.0  ...   \n",
      "\n",
      "        PCSK7   C1R   C2   C3   C5  CFI  CTSS  CTSL  CTSB  CTSC  \n",
      "0         0.0   0.0  0.0  0.0  0.0  0.0   0.0   1.0   4.0   6.0  \n",
      "1         3.0   1.0  0.0  1.0  0.0  0.0   1.0   0.0  16.0   5.0  \n",
      "2         0.0   0.0  0.0  0.0  0.0  1.0   1.0   0.0   2.0   0.0  \n",
      "3         0.0   0.0  0.0  2.0  0.0  0.0   5.0   0.0   8.0   0.0  \n",
      "4         0.0   0.0  0.0  0.0  0.0  0.0   0.0   0.0   0.0   0.0  \n",
      "...       ...   ...  ...  ...  ...  ...   ...   ...   ...   ...  \n",
      "193567    0.0   0.0  0.0  0.0  0.0  0.0   0.0   0.0   0.0   0.0  \n",
      "193568    0.0   1.0  0.0  0.0  0.0  0.0   0.0   0.0   1.0   2.0  \n",
      "193569    0.0   1.0  3.0  0.0  0.0  0.0   2.0   1.0   5.0   3.0  \n",
      "193570    2.0  16.0  0.0  0.0  0.0  0.0   0.0   0.0   5.0   0.0  \n",
      "193571    0.0   0.0  0.0  0.0  0.0  0.0   0.0   0.0   2.0   0.0  \n",
      "\n",
      "[193572 rows x 26 columns]\n"
     ]
    }
   ],
   "source": [
    "# countnumber of smoker and non-smoker samples\n",
    "n_smoker = len(df_smoker)\n",
    "n_non_smoker = len(df_non_smoker)\n",
    "print(n_smoker);\n",
    "print(n_non_smoker);\n",
    "# resample the non-smoker data to have the same number of samples as the smoker data\n",
    "df_non_smoker_resampled = df_non_smoker.sample(n=n_smoker, replace=False, random_state=42);\n",
    "# label the data as smoke=yes or smoke=no in both dataframes\n",
    "df_smoker['smoker'] = 'yes';\n",
    "df_non_smoker_resampled['smoker'] = 'no';\n",
    "# combine the data frames\n",
    "df_combo_balanced = pd.concat([df_smoker, df_non_smoker_resampled], axis=0, ignore_index=True);\n",
    "X = df_combo_balanced.drop(['smoker'], axis=1)\n",
    "y = df_combo_balanced['smoker']\n",
    "print('BALANCED');\n",
    "print(X);"
   ],
   "metadata": {
    "collapsed": false,
    "ExecuteTime": {
     "start_time": "2023-04-10T17:48:01.214728Z",
     "end_time": "2023-04-10T17:48:01.359018Z"
    }
   }
  },
  {
   "cell_type": "code",
   "execution_count": 5,
   "outputs": [],
   "source": [
    "from sklearn.preprocessing import LabelEncoder, StandardScaler\n",
    "# Encode the target using LabelEncoder\n",
    "le = LabelEncoder()\n",
    "y = le.fit_transform(y)\n",
    "\n",
    "# Normalize features using StandardScaler\n",
    "scaler = StandardScaler()\n",
    "X = scaler.fit_transform(X)"
   ],
   "metadata": {
    "collapsed": false,
    "ExecuteTime": {
     "start_time": "2023-04-10T17:48:01.282613Z",
     "end_time": "2023-04-10T17:48:01.369688Z"
    }
   }
  },
  {
   "cell_type": "markdown",
   "source": [],
   "metadata": {
    "collapsed": false
   }
  },
  {
   "cell_type": "code",
   "execution_count": 6,
   "outputs": [
    {
     "name": "stdout",
     "output_type": "stream",
     "text": [
      "Accuracy: 0.49870849979335996\n"
     ]
    }
   ],
   "source": [
    "from sklearn.metrics import accuracy_score\n",
    "from sklearn.model_selection import train_test_split\n",
    "from sklearn.dummy import DummyClassifier\n",
    "\n",
    "\n",
    "\n",
    "X_train, X_test, y_train, y_test = train_test_split(X, y, test_size=0.3, random_state=42)\n",
    "# dummy classifier\n",
    "dummy_clf = DummyClassifier(strategy=\"most_frequent\")\n",
    "dummy_clf.fit(X_train, y_train)\n",
    "y_pred = dummy_clf.predict(X_test)\n",
    "\n",
    "# accuracy\n",
    "accuracy = accuracy_score(y_test, y_pred)\n",
    "print(\"Accuracy:\", accuracy)"
   ],
   "metadata": {
    "collapsed": false,
    "ExecuteTime": {
     "start_time": "2023-04-10T17:48:01.316327Z",
     "end_time": "2023-04-10T17:48:01.371367Z"
    }
   }
  },
  {
   "cell_type": "code",
   "execution_count": null,
   "outputs": [],
   "source": [
    "from sklearn.model_selection import cross_val_score, GridSearchCV\n",
    "from sklearn.svm import SVC\n",
    "\n",
    "X_train, X_test, y_train, y_test = train_test_split(X, y, test_size=0.3, random_state=42);\n",
    "\n",
    "svm_model = svm.SVC(kernel='linear', probability=False);\n",
    "\n",
    "scores = cross_val_score(svm_model, X_train, y_train, cv=5);\n",
    "print(scores);"
   ],
   "metadata": {
    "collapsed": false,
    "ExecuteTime": {
     "start_time": "2023-04-09T10:39:04.610335Z",
     "end_time": "2023-04-09T14:11:48.308857Z"
    },
    "pycharm": {
     "is_executing": true
    }
   }
  },
  {
   "cell_type": "code",
   "execution_count": null,
   "outputs": [],
   "source": [
    "\n"
   ],
   "metadata": {
    "collapsed": false,
    "ExecuteTime": {
     "start_time": "2023-04-08T21:49:57.549433Z",
     "end_time": "2023-04-08T21:49:57.642338Z"
    },
    "pycharm": {
     "is_executing": true
    }
   }
  },
  {
   "cell_type": "code",
   "execution_count": null,
   "outputs": [],
   "source": [],
   "metadata": {
    "collapsed": false,
    "pycharm": {
     "is_executing": true
    }
   }
  }
 ],
 "metadata": {
  "kernelspec": {
   "display_name": "Python 3 (ipykernel)",
   "language": "python",
   "name": "python3"
  },
  "language_info": {
   "codemirror_mode": {
    "name": "ipython",
    "version": 3
   },
   "file_extension": ".py",
   "mimetype": "text/x-python",
   "name": "python",
   "nbconvert_exporter": "python",
   "pygments_lexer": "ipython3",
   "version": "3.10.8"
  },
  "vscode": {
   "interpreter": {
    "hash": "7812ea015bdcee6f23a998adcdd2ef97c151c0c241b7b7070987d9313e41299d"
   }
  }
 },
 "nbformat": 4,
 "nbformat_minor": 2
}
