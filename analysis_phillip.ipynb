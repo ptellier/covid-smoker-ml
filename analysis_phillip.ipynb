{
 "cells": [
  {
   "cell_type": "markdown",
   "metadata": {
    "id": "ET3odDosNxao"
   },
   "source": [
    "### Package and Data Imports"
   ]
  },
  {
   "cell_type": "code",
   "execution_count": null,
   "metadata": {
    "colab": {
     "base_uri": "https://localhost:8080/"
    },
    "id": "6WNxvqQkdPcY",
    "outputId": "13bfa7ba-6a52-4fef-cc9d-3eb9a9347e02"
   },
   "outputs": [],
   "source": [
    "!pip install scanpy python-igraph leidenalg catboost\n"
   ]
  },
  {
   "cell_type": "code",
   "execution_count": null,
   "metadata": {
    "id": "5-0AH-tfNxaq"
   },
   "outputs": [],
   "source": [
    "import scanpy as sc\n",
    "from scipy.stats import spearmanr\n",
    "import seaborn as sns\n",
    "import matplotlib.pyplot as plt\n",
    "import matplotlib.gridspec as gridspec\n",
    "from sklearn.feature_selection import mutual_info_classif\n",
    "from sklearn.model_selection import train_test_split\n",
    "from imblearn.over_sampling import RandomOverSampler\n",
    "import scipy as sp\n",
    "import torch\n",
    "import numpy as np\n",
    "import pandas as pd\n",
    "import random\n",
    "import joblib\n",
    "# Various Random Forests\n",
    "from sklearn.ensemble import RandomForestClassifier\n",
    "from sklearn.model_selection import GridSearchCV\n",
    "from catboost import CatBoostClassifier\n",
    "from lightgbm.sklearn import LGBMClassifier\n",
    "from sklearn.tree import DecisionTreeClassifier\n",
    "from xgboost import XGBClassifier\n",
    "from xgboost import XGBRFClassifier\n",
    "# For NMF Topic Modelling\n",
    "from sklearn.metrics import silhouette_score\n",
    "from sklearn.decomposition import NMF\n",
    "from sklearn.metrics import mean_squared_error\n",
    "from sklearn.preprocessing import normalize"
   ]
  },
  {
   "cell_type": "code",
   "execution_count": null,
   "metadata": {
    "colab": {
     "base_uri": "https://localhost:8080/"
    },
    "id": "qKUvxZu6UKtB",
    "outputId": "fc7b040e-0445-49ac-84a6-d5d4b6c62cb2"
   },
   "outputs": [],
   "source": [
    "from google.colab import drive\n",
    "drive.mount('/content/drive')\n"
   ]
  },
  {
   "cell_type": "code",
   "execution_count": null,
   "metadata": {
    "colab": {
     "base_uri": "https://localhost:8080/"
    },
    "id": "crA2v8JVWj4E",
    "outputId": "f6c79c97-2b2b-42ea-84b7-65d7592f3d9a"
   },
   "outputs": [],
   "source": [
    "%cd /content/drive/MyDrive/445_project_data/"
   ]
  },
  {
   "cell_type": "markdown",
   "metadata": {
    "id": "xvKcoSE5OIzO"
   },
   "source": [
    "#### Setup Data\n",
    "\n"
   ]
  },
  {
   "cell_type": "code",
   "execution_count": null,
   "metadata": {
    "id": "7zfcAwJmNxas"
   },
   "outputs": [],
   "source": [
    "adata_nonsmkr = sc.read_text('internal_nonsmokerslung.expression.txt', delimiter='\\t').T\n",
    "adata_smkr = sc.read_text('internal_smokerslung.expression.txt', delimiter='\\t').T\n",
    "\n",
    "df_nonsmkr_meta = pd.read_csv('internal_nonsmokerslung.meta.txt', sep=\"\\t\", index_col=0)\n",
    "df_smkr_meta = pd.read_csv('internal_smokerslung.meta.txt', sep=\"\\t\", index_col=0)"
   ]
  },
  {
   "cell_type": "code",
   "execution_count": null,
   "metadata": {
    "id": "heYUjKLGNxat"
   },
   "outputs": [],
   "source": [
    "df_smkr_data_and_meta = pd.concat([adata_smkr.to_df(), df_smkr_meta], axis=1)\n",
    "df_nonsmkr_data_and_meta = pd.concat([adata_nonsmkr.to_df(), df_nonsmkr_meta], axis=1)"
   ]
  },
  {
   "cell_type": "code",
   "execution_count": null,
   "metadata": {
    "colab": {
     "base_uri": "https://localhost:8080/",
     "height": 661
    },
    "id": "jbCzgSPpNxau",
    "outputId": "0373de3b-2c3a-4c33-9eb4-8eead4440683"
   },
   "outputs": [],
   "source": [
    "df_nonsmkr_data_and_meta"
   ]
  },
  {
   "cell_type": "code",
   "execution_count": null,
   "metadata": {
    "colab": {
     "base_uri": "https://localhost:8080/"
    },
    "id": "_wsvbDZTNxav",
    "outputId": "eeea6fc9-fac6-4666-a958-496b996a8837"
   },
   "outputs": [],
   "source": [
    "adata_nonsmkr.var_names"
   ]
  },
  {
   "cell_type": "markdown",
   "metadata": {
    "id": "Vpxa4ZpdSxp5"
   },
   "source": [
    "### Calculate Cell Amounts"
   ]
  },
  {
   "cell_type": "code",
   "execution_count": null,
   "metadata": {
    "id": "8USO2rH-Nxa-"
   },
   "outputs": [],
   "source": [
    "smkr_by_type = {}\n",
    "nonsmkr_by_type = {}\n",
    "cellTypes = df_smkr_data_and_meta['CellType'].unique()\n",
    "for cellType in cellTypes:\n",
    "    smkr_by_type[cellType] = df_smkr_data_and_meta[df_smkr_data_and_meta['CellType'] == cellType].copy()\n",
    "    nonsmkr_by_type[cellType] = df_nonsmkr_data_and_meta[df_nonsmkr_data_and_meta['CellType'] == cellType].copy()\n",
    "\n",
    "cellType_smkr_sizes = [cellgroup.shape[0] for cellgroup in smkr_by_type.values()]\n",
    "cellType_nonsmkr_sizes = [cellgroup.shape[0] for cellgroup in nonsmkr_by_type.values()]"
   ]
  },
  {
   "cell_type": "code",
   "execution_count": null,
   "metadata": {
    "colab": {
     "base_uri": "https://localhost:8080/",
     "height": 629
    },
    "id": "wtqIKAFsNxa-",
    "outputId": "1748d27e-4c4a-4fc3-886b-67d3eec4832b"
   },
   "outputs": [],
   "source": [
    "bar_width = 0.35\n",
    "even_spacing = np.arange(len(cellType_smkr_sizes))\n",
    "fig, ax = plt.subplots()\n",
    "bars1 = ax.bar(even_spacing - bar_width/2, cellType_smkr_sizes, bar_width, label='non-smoker')\n",
    "bars2 = ax.bar(even_spacing + bar_width/2, cellType_nonsmkr_sizes, bar_width, label='smoker')\n",
    "\n",
    "ax.set_ylabel('Number of Cells')\n",
    "ax.set_title('Numbers of Cell Types in Smokers and Non-smokers')\n",
    "ax.set_xticks(even_spacing)\n",
    "ax.set_xticklabels(smkr_by_type.keys())\n",
    "ax.legend()\n",
    "\n",
    "plt.xticks(rotation=90)\n",
    "plt.show()"
   ]
  },
  {
   "cell_type": "markdown",
   "metadata": {
    "id": "6AUFSQPYNxaw"
   },
   "source": [
    "### Calculate Correlation Matrix"
   ]
  },
  {
   "cell_type": "code",
   "execution_count": null,
   "metadata": {
    "id": "TGRBUhckNxaw"
   },
   "outputs": [],
   "source": [
    "X = adata_nonsmkr.X\n",
    "# corr_matrix_nonsmkr = np.corrcoef(X, rowvar=False) #pearson correlation\n",
    "corr_matrix_nonsmkr, spearman_p_vals = spearmanr(X) #spearman correlation\n",
    "X = adata_smkr.X\n",
    "# corr_matrix_smkr = np.corrcoef(X, rowvar=False) #pearson correlation\n",
    "corr_matrix_smkr, spearman_p_vals = spearmanr(X) #spearman correlation\n",
    "\n",
    "corr_matrix_smkr"
   ]
  },
  {
   "cell_type": "code",
   "execution_count": null,
   "metadata": {
    "id": "U5WCkUfhNxax",
    "outputId": "8a8b20e9-253e-4792-ab13-b31b9e0aae71"
   },
   "outputs": [],
   "source": [
    "fig, axises = plt.subplots(ncols=2, figsize=(10, 4))\n",
    "sns.heatmap(corr_matrix_nonsmkr, cmap='coolwarm', vmin=-1, vmax=1, ax=axises[0],\n",
    "            xticklabels=adata_nonsmkr.var_names, yticklabels=adata_nonsmkr.var_names)\n",
    "axises[0].set_title(\"Non-smokers\")\n",
    "sns.heatmap(corr_matrix_smkr, cmap='coolwarm', vmin=-1, vmax=1, ax=axises[1],\n",
    "            xticklabels=adata_smkr.var_names, yticklabels=adata_smkr.var_names)\n",
    "axises[1].set_title(\"Smokers\")\n",
    "plt.suptitle(\"Spearman correlation for gene pairs in COVID19 patients\", fontsize=12, y=1.0)\n",
    "plt.show()"
   ]
  },
  {
   "cell_type": "markdown",
   "metadata": {
    "id": "dz75ji8wNxay"
   },
   "source": [
    "### Calculate Mutual Information Matrix"
   ]
  },
  {
   "cell_type": "code",
   "execution_count": null,
   "metadata": {
    "id": "qUlHGg3XNxaz"
   },
   "outputs": [],
   "source": [
    "X = adata_nonsmkr.X\n",
    "def make_mutual_info_matrix(X_):\n",
    "    num_feat = X_.shape[1]\n",
    "    toStack = [[0 for i in range(num_feat)] for j in range(num_feat)]\n",
    "    for col in range(num_feat):\n",
    "        toStack[col] = mutual_info_classif(X_, X_[:,col], n_neighbors=3)\n",
    "    return np.stack(toStack, axis=1)"
   ]
  },
  {
   "cell_type": "code",
   "execution_count": null,
   "metadata": {
    "id": "o6ntF7ljNxaz"
   },
   "outputs": [],
   "source": [
    "mi_matrix_nonsmkr = make_mutual_info_matrix(adata_nonsmkr.X)\n",
    "mi_matrix_smkr = make_mutual_info_matrix(adata_smkr.X)"
   ]
  },
  {
   "cell_type": "code",
   "execution_count": null,
   "metadata": {
    "id": "LhbHmyLGNxa0",
    "outputId": "da844c10-0b7d-433b-f25b-f8240b1d4177"
   },
   "outputs": [],
   "source": [
    "fig, axises = plt.subplots(ncols=2, figsize=(10, 4))\n",
    "sns.heatmap(mi_matrix_nonsmkr, cmap='BuPu', vmax=0.2, ax=axises[0],\n",
    "            xticklabels=adata_smkr.var_names, yticklabels=adata_smkr.var_names)\n",
    "axises[0].set_title(\"Non-smokers\")\n",
    "sns.heatmap(mi_matrix_smkr, cmap='BuPu', vmax=0.2, ax=axises[1],\n",
    "            xticklabels=adata_smkr.var_names, yticklabels=adata_smkr.var_names)\n",
    "axises[1].set_title(\"Smokers\")\n",
    "plt.suptitle(\"Mutual Information for gene pairs in COVID19 patients\", fontsize=12, y=1.0)\n",
    "plt.show()"
   ]
  },
  {
   "cell_type": "markdown",
   "metadata": {
    "id": "1-uETaXHNxa1"
   },
   "source": [
    "### Random Forest Classifiers"
   ]
  },
  {
   "cell_type": "markdown",
   "metadata": {
    "id": "Q3CKRZZlNxa1"
   },
   "source": [
    "#### Create features X and target y\n",
    "\n"
   ]
  },
  {
   "cell_type": "markdown",
   "metadata": {
    "id": "jSDfHsVHHtBD"
   },
   "source": [
    "###### make X and y without meta data\n",
    "\n"
   ]
  },
  {
   "cell_type": "code",
   "execution_count": null,
   "metadata": {
    "id": "7UFtSYE-Nxa1"
   },
   "outputs": [],
   "source": [
    "# pd.DataFrame(adata_smkr.X)\n",
    "# sp.sparse.csr_matrix(adata_smkr.X)\n",
    "X_no_meta = np.concatenate([adata_nonsmkr.X, adata_smkr.X]) #combine ndarrays"
   ]
  },
  {
   "cell_type": "code",
   "execution_count": null,
   "metadata": {
    "colab": {
     "base_uri": "https://localhost:8080/"
    },
    "id": "zkNp5hSGNxa3",
    "outputId": "d0a9c4ca-3ff6-4525-852c-fe5cec2b8fb2"
   },
   "outputs": [],
   "source": [
    "print(f'# of non-smoker examples is {adata_nonsmkr.X.shape[0]} \\n',\n",
    "      f'# of smoker examples is {adata_smkr.X.shape[0]} \\n',\n",
    "      f'ratio is {adata_smkr.X.shape[0] / adata_nonsmkr.X.shape[0]}')"
   ]
  },
  {
   "cell_type": "code",
   "execution_count": null,
   "metadata": {
    "id": "jLPtZe4FNxa4"
   },
   "outputs": [],
   "source": [
    "def make_target_from_two_datasets(matrix1: np.ndarray, matrix2: np.ndarray):\n",
    "    y_1 = [False]*(adata_smkr.X.shape[0])\n",
    "    y_2 = [True]*(adata_nonsmkr.X.shape[0])\n",
    "    return np.concatenate([y_1, y_2])\n",
    "y = make_target_from_two_datasets(adata_nonsmkr.X, adata_smkr)"
   ]
  },
  {
   "cell_type": "code",
   "execution_count": null,
   "metadata": {
    "colab": {
     "base_uri": "https://localhost:8080/"
    },
    "id": "K8KjzWApNxa4",
    "outputId": "3dad1b4e-db93-45b1-8b7d-5a64f0660c9c"
   },
   "outputs": [],
   "source": [
    "# shuffle data and split (keeping target class proportions the same)\n",
    "X_train_nm, X_test_nm, y_train_nm, y_test_nm = train_test_split(X_no_meta, y, test_size=0.3, shuffle=True, stratify=y)\n",
    "# over-sample from the least frequent target class to balance the classes\n",
    "randomOverSampler = RandomOverSampler()\n",
    "X_train_nm, y_train_nm = randomOverSampler.fit_resample(X_train_nm, y_train_nm)\n",
    "print(f'# of non-smoker training examples is {y_train_nm[y_train_nm==False].shape[0]} \\n',\n",
    "      f'# of smoker training examples is {y_train_nm[y_train_nm==True].shape[0]}')"
   ]
  },
  {
   "cell_type": "markdown",
   "metadata": {
    "id": "pwg39TxaH2Z8"
   },
   "source": [
    "###### make X and y with meta data\n",
    "\n"
   ]
  },
  {
   "cell_type": "code",
   "execution_count": null,
   "metadata": {
    "id": "Gux0Eg6COwxM"
   },
   "outputs": [],
   "source": [
    "X_meta = pd.concat([df_nonsmkr_data_and_meta, df_smkr_data_and_meta])"
   ]
  },
  {
   "cell_type": "code",
   "execution_count": null,
   "metadata": {
    "id": "bH156x8SNxbA"
   },
   "outputs": [],
   "source": [
    "# def make_target_from_two_datasets(df1: pd.DataFrame, df2: pd.DataFrame):\n",
    "#     y_1 = [False] * (df1.shape[0])\n",
    "#     y_2 = [True] * (df2.shape[0])\n",
    "#     return np.concatenate([y_1, y_2])\n",
    "# y = make_target_from_two_datasets(df_nonsmkr_data_and_meta, df_smkr_data_and_meta)\n"
   ]
  },
  {
   "cell_type": "code",
   "execution_count": null,
   "metadata": {
    "colab": {
     "base_uri": "https://localhost:8080/"
    },
    "id": "dLLVpFYRNxbA",
    "outputId": "c72f9e2c-4d81-467d-dcce-e4859e689377"
   },
   "outputs": [],
   "source": [
    "# shuffle data and split (keeping target class proportions the same)\n",
    "X_train_m, X_test_m, y_train_m, y_test_m = train_test_split(X_meta, y, test_size=0.3, shuffle=True, stratify=y)\n",
    "# over-sample from the least frequent target class to balance the classes\n",
    "randomOverSampler = RandomOverSampler()\n",
    "X_train_m, y_train_m = randomOverSampler.fit_resample(X_train_m, y_train_m)\n",
    "print(f'# of non-smoker training examples is {y_train_m[y_train_m == False].shape[0]} \\n',\n",
    "      f'# of smoker training examples is {y_train_m[y_train_m == True].shape[0]}')"
   ]
  },
  {
   "cell_type": "markdown",
   "metadata": {
    "id": "skRuXCbJNxa4"
   },
   "source": [
    "#### Single Random Forest"
   ]
  },
  {
   "cell_type": "markdown",
   "metadata": {
    "id": "-h3BdJYmRY4P"
   },
   "source": [
    "###### cross validation"
   ]
  },
  {
   "cell_type": "code",
   "execution_count": null,
   "metadata": {
    "id": "GfoyrOLxNxa5"
   },
   "outputs": [],
   "source": [
    "rf_model = XGBRFClassifier(tree_method='gpu_hist')\n",
    "# rf_model = RandomForestClassifier()\n",
    "rf_grid_search = GridSearchCV(rf_model, verbose=3, n_jobs=-4, return_train_score=True, param_grid={\n",
    "    'max_depth':    [1, 4, 8, 12, 16, 20, 24, 28, 32, 36, 40, 44],\n",
    "    'n_estimators': [10]})"
   ]
  },
  {
   "cell_type": "code",
   "execution_count": null,
   "metadata": {
    "colab": {
     "base_uri": "https://localhost:8080/"
    },
    "id": "OUW5vXzNbJXi",
    "outputId": "50055877-01cb-4f09-83b0-cc8dea01e8d3"
   },
   "outputs": [],
   "source": [
    "rf_grid_search.fit(X_train_nm, y_train_nm)\n",
    "print(rf_grid_search.score(X_train_nm, y_train_nm))"
   ]
  },
  {
   "cell_type": "code",
   "execution_count": null,
   "metadata": {
    "id": "noU-YYGYNxa5"
   },
   "outputs": [],
   "source": [
    "results = rf_grid_search.cv_results_\n",
    "#pd.DataFrame(results)"
   ]
  },
  {
   "cell_type": "code",
   "execution_count": null,
   "metadata": {
    "id": "B6PkVu_vNxa5"
   },
   "outputs": [],
   "source": [
    "def plot_cross_validation(param_list: list[int], mean_train_score: list[float], mean_validation_score: list[float]):\n",
    "    fig, ax = plt.subplots()\n",
    "    ax.plot(param_list, mean_train_score, \"lightblue\")\n",
    "    ax.plot(param_list, mean_train_score, 'bo', label=\"training_score\")\n",
    "    ax.plot(param_list, mean_validation_score, \"pink\")\n",
    "    ax.plot(param_list, mean_validation_score, 'ro', label=\"validation_score\")\n",
    "    ax.set_title('Random Forest Cross Validation Grid Search Results')\n",
    "    ax.set_xlabel('Max Tree Depth')\n",
    "    ax.set_ylabel('Mean Validation Score')\n",
    "    fig.set_size_inches(8, 3)\n",
    "    plt.ylim(0.5, 0.8)\n",
    "    plt.grid(axis = 'y')\n",
    "    ax.set_xticks(param_list)\n",
    "    ax.legend()\n",
    "    # plt.xlim(param_list[0], param_list[-1])\n",
    "    plt.show()"
   ]
  },
  {
   "cell_type": "code",
   "execution_count": null,
   "metadata": {
    "colab": {
     "base_uri": "https://localhost:8080/",
     "height": 333
    },
    "id": "2jTHLc81Nxa6",
    "outputId": "b0b17f10-fc6b-48b1-c2c5-1dcc0ea5014e"
   },
   "outputs": [],
   "source": [
    "plot_cross_validation(results['param_max_depth'].tolist(), results['mean_train_score'].tolist(), results['mean_test_score'].tolist())"
   ]
  },
  {
   "cell_type": "markdown",
   "metadata": {
    "id": "FFt8n2SnRmnm"
   },
   "source": [
    "###### try lgbm, xgboost, catboost"
   ]
  },
  {
   "cell_type": "code",
   "execution_count": null,
   "metadata": {
    "id": "RBkDa9S8Nxa6"
   },
   "outputs": [],
   "source": [
    "lgbmModel = LGBMClassifier()\n",
    "catBoostModel = CatBoostClassifier(verbose=0)\n",
    "xgbModel = XGBClassifier(eval_metric=\"logloss\", nthread=-1, verbosity=1)\n",
    "\n",
    "tree_classifiers = {\n",
    "    \"random forest\": rf_model,\n",
    "    \"LightGBM\": lgbmModel,\n",
    "    \"CatBoost\": catBoostModel,\n",
    "    \"XGBoost\": xgbModel,\n",
    "}"
   ]
  },
  {
   "cell_type": "code",
   "execution_count": null,
   "metadata": {
    "id": "feZ8wbhTNxa7"
   },
   "outputs": [],
   "source": [
    "# Hyperparameter Optimization\n",
    "lgbm_grid_search = GridSearchCV(lgbmModel, n_jobs=-1, return_train_score=True, param_grid={\n",
    "    'learning_rate': [0.1],\n",
    "    'n_estimators': [100]\n",
    "})\n",
    "catboost_grid_search = GridSearchCV(catBoostModel, n_jobs=-1, return_train_score=True, param_grid={\n",
    "    'learning_rate':    [1],\n",
    "    'n_estimators': [1000]\n",
    "})\n",
    "xgboost_grid_search = GridSearchCV(xgbModel, n_jobs=-1, return_train_score=True, param_grid={\n",
    "    'learning_rate':    [1],\n",
    "    'n_estimators': [100],\n",
    "    'nthread':[-1]\n",
    "})"
   ]
  },
  {
   "cell_type": "code",
   "execution_count": null,
   "metadata": {
    "colab": {
     "base_uri": "https://localhost:8080/"
    },
    "id": "hRYQeN98Nxa7",
    "outputId": "ff62f423-37f0-4e4b-92ed-f2de637ffb1f"
   },
   "outputs": [],
   "source": [
    "lgbm_grid_search.fit(X_train_nm, y_train_nm)\n",
    "print(lgbm_grid_search.score(X_test_nm, y_test_nm))"
   ]
  },
  {
   "cell_type": "code",
   "execution_count": null,
   "metadata": {
    "id": "ayns6uNHNxa7",
    "outputId": "7b20979f-4d4d-48ac-c727-1a170d822e71"
   },
   "outputs": [],
   "source": [
    "y_test_string = np.array([str(target) for target in y_test_nm])\n",
    "catboost_grid_search.fit(X_train_nm, y_train_nm)\n",
    "print(catboost_grid_search.score(X_test_nm, y_test_string))"
   ]
  },
  {
   "cell_type": "code",
   "execution_count": null,
   "metadata": {
    "id": "9WwGFbMaHPT7"
   },
   "outputs": [],
   "source": [
    "xgboost_grid_search.fit(X_train_nm, y_train_nm)\n",
    "print(xgboost_grid_search.score(X_test_nm, y_test_nm))"
   ]
  },
  {
   "cell_type": "markdown",
   "metadata": {
    "id": "4mpGpW3QR9ZJ"
   },
   "source": [
    "###### fit / score"
   ]
  },
  {
   "cell_type": "code",
   "execution_count": null,
   "metadata": {
    "colab": {
     "base_uri": "https://localhost:8080/"
    },
    "id": "TL_VFnRONxa7",
    "outputId": "154fb6f5-b8e0-4e9d-e089-18529e80f2dd"
   },
   "outputs": [],
   "source": [
    "SINGLE_RF_BEST_DEPTH = 32\n",
    "single_rf_model =  RandomForestClassifier(max_depth=SINGLE_RF_BEST_DEPTH, n_estimators=100)\n",
    "single_rf_model.fit(X_train_nm, y_train_nm)\n",
    "single_rf_model.score(X_test_nm, y_test_nm)"
   ]
  },
  {
   "cell_type": "code",
   "execution_count": null,
   "metadata": {
    "colab": {
     "base_uri": "https://localhost:8080/",
     "height": 346
    },
    "id": "8WpV0CWgNxa9",
    "outputId": "cf6e6d34-b538-40df-957f-366718ec41e9"
   },
   "outputs": [],
   "source": [
    "data = {\"Importance\": single_rf_model.feature_importances_}\n",
    "#pd.DataFrame(data=data, index=adata_smkr.var_names).sort_values(by=\"Importance\", ascending=False)\n",
    "fig = plt.figure()\n",
    "ax = fig.add_subplot(111)\n",
    "ax.bar(adata_smkr.var_names, single_rf_model.feature_importances_)\n",
    "#ax.set_title(\"Feature Importances in Random Forest\")\n",
    "ax.set_ylabel(\"Feature Importance\")\n",
    "plt.xticks(rotation=90)\n",
    "fig.set_size_inches(8, 3)\n",
    "plt.show()"
   ]
  },
  {
   "cell_type": "markdown",
   "metadata": {
    "id": "5vRRLCydNxa-"
   },
   "source": [
    "#### Random Forests per Cell Type (Hard)"
   ]
  },
  {
   "cell_type": "markdown",
   "metadata": {
    "id": "NnmG-cGGYSMk"
   },
   "source": [
    "##### class"
   ]
  },
  {
   "cell_type": "code",
   "execution_count": null,
   "metadata": {
    "id": "x5x8VivKNxa_"
   },
   "outputs": [],
   "source": [
    "class RandomForestByCellType:\n",
    "    def __init__(self, max_depths=None, n_estimators=[1]):\n",
    "        if max_depths is None:\n",
    "            self.max_depths = [1,2,3] # 8, 12, 16, 20, 24, 28, 32, 36, 40, 44\n",
    "        else:\n",
    "            self.max_depths = max_depths\n",
    "        self.n_estimators = n_estimators\n",
    "        self.gridSearches = {}\n",
    "        self.models = {}\n",
    "        self.cv_results = {}\n",
    "        self.graphs = {}\n",
    "        self.num_cells_by_type_cv = {}\n",
    "        self.num_cells_by_type_fit = {}\n",
    "\n",
    "    def set_best_params_from_cv_results(self, cellTypes_):\n",
    "        self.best_depth = {}\n",
    "        self.best_n_estimators = {}\n",
    "        for cellType in cellTypes_:\n",
    "            cellType_cv_result = self.cv_results[cellType]\n",
    "            self.best_depth[cellType] = cellType_cv_result.loc[cellType_cv_result[\"mean_test_score\"].idxmax(),\"param_max_depth\"]\n",
    "            self.best_n_estimators[cellType] = cellType_cv_result.loc[cellType_cv_result[\"mean_test_score\"].idxmax(),\"param_n_estimators\"]\n",
    "\n",
    "    def score(self, X_, y_):\n",
    "        y_hat = self.predict(X_)\n",
    "        count = 0\n",
    "        for i in range(len(y_hat)):\n",
    "            if y_hat[i] == y_[i]:\n",
    "                count += 1\n",
    "        return count / len(y_hat)"
   ]
  },
  {
   "cell_type": "code",
   "execution_count": null,
   "metadata": {
    "id": "8_7UPYjITxFt"
   },
   "outputs": [],
   "source": [
    "class RandomForestByCellHardCat(RandomForestByCellType):\n",
    "    def __init__(self, max_depths=None, n_estimators=[1]):\n",
    "        super().__init__(max_depths=max_depths, n_estimators=n_estimators)\n",
    "\n",
    "    def subset_cells_by_type(self, X_, y_, cellType):\n",
    "        X_subset = X_.loc[X_[\"CellType\"] == cellType].iloc[:,0:27]\n",
    "        y_subset = y_[X_subset.index]\n",
    "        return (X_subset, y_subset)\n",
    "\n",
    "    def cross_validate(self, X_, y_, cellTypes_, verbose=True):\n",
    "        if verbose: cv_verbosity = 3\n",
    "        else: cv_verbosity = 0\n",
    "        for cellType in cellTypes_:\n",
    "            (X_subset, y_subset) = self.subset_cells_by_type(X_, y_, cellType)\n",
    "            self.num_cells_by_type_cv[cellType] = len(y_subset)\n",
    "            if verbose:\n",
    "                print(f'cross validating random tree for {len(y_subset)} {cellType} cells')\n",
    "            rf_model = RandomForestClassifier()\n",
    "            #print(f'verbosity={cv_verbosity}')\n",
    "            self.gridSearches[cellType] = GridSearchCV(rf_model, n_jobs=-1, verbose=cv_verbosity, return_train_score=True, param_grid={\n",
    "                'max_depth': self.max_depths,\n",
    "                'n_estimators': self.n_estimators\n",
    "            })\n",
    "            self.gridSearches[cellType].fit(X_subset, y_subset)\n",
    "            self.cv_results[cellType] = pd.DataFrame(self.gridSearches[cellType].cv_results_)\n",
    "\n",
    "    def fit(self, X_, y_, cellTypes_, verbose=True):\n",
    "        for cellType in cellTypes_:\n",
    "            (X_subset, y_subset) = self.subset_cells_by_type(X_, y_, cellType)\n",
    "            self.num_cells_by_type_fit[cellType] = len(y_subset)\n",
    "            if verbose:\n",
    "                print(f'fitting random tree for {len(y_subset)} {cellType} cells')\n",
    "            self.models[cellType] = RandomForestClassifier(max_depth=self.best_depth[cellType], n_estimators=self.best_n_estimators[cellType])\n",
    "            self.models[cellType].fit(X_subset, y_subset)\n",
    "\n",
    "    def predict(self, X_, verbose=True):\n",
    "        n = X_.shape[0]\n",
    "        K = len(self.models.keys())\n",
    "        self._predictions = {}\n",
    "        self._final_predictions = np.empty(n)\n",
    "        for cellType, model in self.models.items():\n",
    "            if verbose:\n",
    "                print(f'predicting with random tree for {cellType} cells')\n",
    "            self._predictions[cellType] = model.predict(X_.iloc[:,0:27])\n",
    "        for i in range(n):\n",
    "            cellType = X_[\"CellType\"].iloc[i]\n",
    "            self._final_predictions[i] = self._predictions[cellType][i]\n",
    "        return self._final_predictions\n"
   ]
  },
  {
   "cell_type": "markdown",
   "metadata": {
    "id": "wZt-Q6fWYibh"
   },
   "source": [
    "##### cross validation"
   ]
  },
  {
   "cell_type": "code",
   "execution_count": null,
   "metadata": {
    "colab": {
     "base_uri": "https://localhost:8080/"
    },
    "id": "5R84zX7qNxbB",
    "outputId": "a752e3ed-f1f8-4a38-d99b-b711984d9208"
   },
   "outputs": [],
   "source": [
    "cellTypes = df_smkr_data_and_meta['CellType'].unique()\n",
    "rf_by_cell_type = RandomForestByCellHardCat(max_depths=[1,5,10,20,30,40], n_estimators=[10])\n",
    "rf_by_cell_type.cross_validate(X_train_m, y_train_m, cellTypes)"
   ]
  },
  {
   "cell_type": "code",
   "execution_count": null,
   "metadata": {
    "id": "_gBhpEtRSo4h"
   },
   "outputs": [],
   "source": [
    "rf_by_cell_type.cv_results"
   ]
  },
  {
   "cell_type": "code",
   "execution_count": null,
   "metadata": {
    "colab": {
     "base_uri": "https://localhost:8080/"
    },
    "id": "QUVYzmdwhjSl",
    "outputId": "0271abea-f20e-40d4-ad2f-7e19f35aef2c"
   },
   "outputs": [],
   "source": [
    "rf_by_cell_type.set_best_params_from_cv_results(cellTypes)\n",
    "best_depth_by_cell_type = []\n",
    "for cellType in cellTypes:\n",
    "    best_depth_by_cell_type.append(rf_by_cell_type.best_depth[cellType])\n",
    "pd.Series(data=best_depth_by_cell_type, index=cellTypes)"
   ]
  },
  {
   "cell_type": "code",
   "execution_count": null,
   "metadata": {
    "colab": {
     "base_uri": "https://localhost:8080/",
     "height": 472
    },
    "id": "NnxeQHi9NxbD",
    "outputId": "2b775034-3ff1-42af-dddf-67b69ff4e09a"
   },
   "outputs": [],
   "source": [
    "def plot_cross_validation_per_cell(cv_results: dict[str, list[float]], cellTypes: list[str], num_cells: list[int]):\n",
    "    for i in range(len(cellTypes)):\n",
    "        dash_lens = [(1,1),(2,3),(5,1)]\n",
    "        sns.lineplot(data=cv_results[cellTypes[i]], x='param_max_depth', y='mean_test_score',\n",
    "                     dashes=dash_lens[i%len(dash_lens)], marker=\"o\", label=f'{cellTypes[i]} - ({num_cells[i]} cells)')\n",
    "    plt.xlabel('max random tree depth')\n",
    "    plt.ylabel('mean validation score')\n",
    "    plt.ylim(0.5, 1)\n",
    "    plt.grid(axis = 'y')\n",
    "    plt.legend(bbox_to_anchor=(1.05, 1), loc='upper left')\n",
    "    plt.title(\"Cross Validation of Random Forest for each Cell Type\")\n",
    "\n",
    "num_cells_per_type = [rf_by_cell_type.num_cells_by_type_cv[cellType] for cellType in cellTypes]\n",
    "plot_cross_validation_per_cell(rf_by_cell_type.cv_results, cellTypes, num_cells_per_type)"
   ]
  },
  {
   "cell_type": "markdown",
   "metadata": {
    "id": "ZvWI5n-dZFDA"
   },
   "source": [
    "##### fit / score"
   ]
  },
  {
   "cell_type": "code",
   "execution_count": null,
   "metadata": {
    "colab": {
     "base_uri": "https://localhost:8080/"
    },
    "id": "uvmZ7CKaNxbB",
    "outputId": "096d1b6f-05a7-486b-835b-321cddb8417b"
   },
   "outputs": [],
   "source": [
    "rf_by_cell_type.fit(X_train_m, y_train_m, cellTypes)"
   ]
  },
  {
   "cell_type": "code",
   "execution_count": null,
   "metadata": {
    "colab": {
     "base_uri": "https://localhost:8080/"
    },
    "id": "MAyaw3FONxbC",
    "outputId": "84c65722-4d98-4434-8e37-03d6ffc34ed4"
   },
   "outputs": [],
   "source": [
    "rf_by_cell_type.score(X_train_m, y_train_m)"
   ]
  },
  {
   "cell_type": "code",
   "execution_count": null,
   "metadata": {
    "colab": {
     "base_uri": "https://localhost:8080/"
    },
    "id": "zJZLtdKSNxbC",
    "outputId": "f15a5f1f-aee4-415a-edc3-3aed2e3d7951"
   },
   "outputs": [],
   "source": [
    "# grid_search_by_cell_type.score(X_train.iloc[0:10,:], y_train)\n",
    "rf_by_cell_type.score(X_test_m, y_test_m)"
   ]
  },
  {
   "cell_type": "code",
   "execution_count": null,
   "metadata": {
    "id": "PdEX9TGun_pG"
   },
   "outputs": [],
   "source": [
    "def make_feature_importance_matrix(model_dict, cellTypes):\n",
    "    num_feat = 27\n",
    "    num_cell_types = len(cellTypes)\n",
    "    toStack = [[0 for i in range(num_feat)] for j in range(num_cell_types)]\n",
    "    for col in range(num_cell_types):\n",
    "        toStack[col] = model_dict[cellTypes[col]].feature_importances_\n",
    "    return np.stack(toStack, axis=1).T\n",
    "feat_importances_by_cell_type = make_feature_importance_matrix(rf_by_cell_type.models, cellTypes)"
   ]
  },
  {
   "cell_type": "code",
   "execution_count": null,
   "metadata": {
    "colab": {
     "base_uri": "https://localhost:8080/"
    },
    "id": "fvGMr0Wu-8N5",
    "outputId": "23e2000b-119c-4e38-bc4f-b50156285612"
   },
   "outputs": [],
   "source": [
    "def test_accuracy_and_sizes_by_cell_type(model_, X_, y_, cellTypes_):\n",
    "    accuracies = []\n",
    "    sizes = []\n",
    "    for cellType in cellTypes_:\n",
    "        (X_subset, y_subset) = model_.subset_cells_by_type(X_.reset_index(drop=True), y_, cellType)\n",
    "        accuracies.append(model_.models[cellType].score(X_subset, y_subset))\n",
    "        sizes.append(len(y_subset))\n",
    "    return np.array([accuracies,sizes])\n",
    "\n",
    "test_accuracy_and_sizes_by_cell_type = test_accuracy_and_sizes_by_cell_type(rf_by_cell_type, X_test_m, y_test_m, cellTypes)\n",
    "print(test_accuracy_and_sizes_by_cell_type)"
   ]
  },
  {
   "cell_type": "code",
   "execution_count": null,
   "metadata": {
    "colab": {
     "base_uri": "https://localhost:8080/",
     "height": 462
    },
    "id": "tXw2tGKopJGC",
    "outputId": "319d25c1-7310-4d92-be9a-0c533f411b95"
   },
   "outputs": [],
   "source": [
    "fig = plt.figure(figsize=(10, 4))\n",
    "gs = gridspec.GridSpec(1, 3, width_ratios=[5, 1, 1])\n",
    "\n",
    "# left subplot\n",
    "ax1 = plt.subplot(gs[0])\n",
    "sns.heatmap(feat_importances_by_cell_type, cmap='BuPu', vmax=0.2, ax=ax1,\n",
    "            xticklabels=adata_smkr.var_names, yticklabels=cellTypes)\n",
    "ax1.set_title(\"Feature Importances\\n(mean decrease in gini importance)\")\n",
    "\n",
    "# mid subplot\n",
    "ax2 = plt.subplot(gs[1])\n",
    "sns.heatmap(test_accuracy_and_sizes_by_cell_type[0,:].reshape((15,1))*100, vmin=50, vmax=100, cmap='YlOrBr', ax=ax2,\n",
    "            xticklabels=[\"test %\\naccuracy\"], yticklabels=[], annot=True, fmt=\".1f\")\n",
    "plt.xticks(rotation=90)\n",
    "\n",
    "# right subplot\n",
    "ax3 = plt.subplot(gs[2])\n",
    "sns.heatmap(test_accuracy_and_sizes_by_cell_type[1,:].reshape((15,1)), vmin=0, vmax=30000, cmap='Greys', ax=ax3,\n",
    "            xticklabels=[\"# of\\ntest cells\"], yticklabels=[], annot=True, fmt=\".0f\")\n",
    "plt.xticks(rotation=90)\n",
    "plt.show()"
   ]
  },
  {
   "cell_type": "code",
   "execution_count": null,
   "metadata": {
    "id": "8DJP4zdFNxbD"
   },
   "outputs": [],
   "source": [
    "# grid_search_by_cell_type.cv_results['Immune (Myeloid)']"
   ]
  },
  {
   "cell_type": "markdown",
   "metadata": {
    "id": "WM0GfTEoW9Xg"
   },
   "source": [
    "#### Random Forests per Cell Type (Soft)"
   ]
  },
  {
   "cell_type": "markdown",
   "metadata": {
    "id": "j0_JSzaMdTEH"
   },
   "source": [
    "##### class"
   ]
  },
  {
   "cell_type": "code",
   "execution_count": null,
   "metadata": {
    "id": "ksiPocjFXHRI"
   },
   "outputs": [],
   "source": [
    "class RandomForestByCellSoftCat(RandomForestByCellType):\n",
    "    def __init__(self, max_depths=None, n_estimators=[1]):\n",
    "        super().__init__(max_depths=max_depths, n_estimators=n_estimators)\n",
    "\n",
    "    def subset_cells_by_topic(self, X_, y_, topic_props_, topic):\n",
    "        cell_indexes = [i for i in range(len(y_))]\n",
    "        weights = topic_props_[:,topic]\n",
    "        total_weight = sum(weights)\n",
    "        probs = [weight/total_weight for weight in weights]\n",
    "        chosen_indexes = random.choices(cell_indexes, weights=probs, k=round(total_weight))\n",
    "        X_subset = X_[chosen_indexes,:]\n",
    "        y_subset = y_[chosen_indexes]\n",
    "        return (X_subset, y_subset)\n",
    "\n",
    "    def cross_validate(self, X_, y_, topic_props_, verbose=True):\n",
    "        self.sample_sizes = {}\n",
    "        for cellType in range(topic_props_.shape[1]):\n",
    "            (X_subset, y_subset) = self.subset_cells_by_topic(X_, y_, topic_props_, cellType)\n",
    "            self.sample_sizes[cellType] = len(y_subset)\n",
    "            self.num_cells_by_type_cv[cellType] = len(y_subset)\n",
    "            if verbose:\n",
    "                print(f'cross validating random tree for {len(y_subset)} topic #{cellType} cells')\n",
    "            rf_model = RandomForestClassifier()\n",
    "            self.gridSearches[cellType] = GridSearchCV(rf_model, n_jobs=-1, return_train_score=True, param_grid={\n",
    "                'max_depth': self.max_depths,\n",
    "                'n_estimators': self.n_estimators\n",
    "            })\n",
    "            self.gridSearches[cellType].fit(X_subset, y_subset)\n",
    "            self.cv_results[cellType] = pd.DataFrame(self.gridSearches[cellType].cv_results_)\n",
    "\n",
    "    def fit(self, X_, y_, topic_props_, verbose=True):\n",
    "        for cellType in range(topic_props_.shape[1]):\n",
    "            (X_subset, y_subset) = self.subset_cells_by_topic(X_, y_, topic_props_, cellType)\n",
    "            self.num_cells_by_type_fit[cellType] = len(y_subset)\n",
    "            if verbose:\n",
    "                print(f'fitting random tree for {len(y_subset)} cells in topic #{cellType}')\n",
    "            self.models[cellType] = RandomForestClassifier(max_depth=self.best_depth[cellType], n_estimators=self.best_n_estimators[cellType])\n",
    "            self.models[cellType].fit(X_subset, y_subset)\n",
    "\n",
    "    def find_predictions_by_topic(self, X_, topic_props_):\n",
    "        n_topics = topic_props_.shape[1]\n",
    "        n = X_.shape[0]\n",
    "        toStack = [self.models[i].predict(X_) for i in range(n_topics)]\n",
    "        self._predictions = np.stack(toStack, axis=1)\n",
    "    \n",
    "    def predict_proba(self, X_, topic_props_):\n",
    "        n = X_.shape[0]\n",
    "        self.find_predictions_by_topic(X_, topic_props_)\n",
    "        weighted_predictions = self._predictions*topic_props_\n",
    "        self._final_predictions_proba = np.array([sum(weighted_predictions[i,:]) for i in range(n)])\n",
    "        return self._final_predictions_proba\n",
    "\n",
    "    def predict(self, X_, topic_props_):\n",
    "        self._final_predictions = np.array([round(val) for val in self.predict_proba(X_, topic_props_)])\n",
    "        return self._final_predictions\n",
    "\n",
    "    def score(self, X_, y_, topic_props_):\n",
    "        y_hat = self.predict(X_, topic_props_)\n",
    "        count = 0\n",
    "        for i in range(len(y_hat)):\n",
    "            if y_hat[i] == y_[i]:\n",
    "                count += 1\n",
    "        return count / len(y_hat)"
   ]
  },
  {
   "cell_type": "code",
   "execution_count": null,
   "metadata": {
    "id": "zg1WDq5kksue"
   },
   "outputs": [],
   "source": [
    "n_topics = 8\n",
    "model = NMF(n_components=n_topics, init=\"random\", random_state=0)\n",
    "W_train_normed = normalize(model.fit_transform(X_train_nm), norm='l1', axis=1)\n",
    "W_test_normed = normalize(model.fit_transform(X_test_nm), norm='l1', axis=1)\n",
    "#display(pd.DataFrame(W_train_normed))"
   ]
  },
  {
   "cell_type": "markdown",
   "metadata": {
    "id": "gfcODy7ydXAQ"
   },
   "source": [
    "##### cross validation"
   ]
  },
  {
   "cell_type": "code",
   "execution_count": null,
   "metadata": {
    "colab": {
     "base_uri": "https://localhost:8080/"
    },
    "id": "mZD9OBIYXn7Y",
    "outputId": "eee4ee30-2f2e-423b-fc4d-8daecaa3c769"
   },
   "outputs": [],
   "source": [
    "rf_by_topic = RandomForestByCellSoftCat(max_depths=[1,5,10,20,30,40], n_estimators=[20])\n",
    "#test_class.subset_cells_by_topic(X_train_nm, y_train_nm, W_train_normed, 2)\n",
    "rf_by_topic.cross_validate(X_train_nm, y_train_nm, W_train_normed)"
   ]
  },
  {
   "cell_type": "code",
   "execution_count": null,
   "metadata": {
    "id": "svmpZjwpLdLP"
   },
   "outputs": [],
   "source": [
    "topic_names = [f'topic #{i}' for i in range(n_topics)]\n",
    "topic_indexes = [i for i in range(n_topics)]\n",
    "sample_sizes = [rf_by_topic.sample_sizes[i] for i in range(n_topics)]"
   ]
  },
  {
   "cell_type": "code",
   "execution_count": null,
   "metadata": {
    "colab": {
     "base_uri": "https://localhost:8080/",
     "height": 472
    },
    "id": "Krw8xtIiun9L",
    "outputId": "9984da04-99f4-4fdf-e166-61314be33456"
   },
   "outputs": [],
   "source": [
    "def plot_cross_validation_per_topic(cv_results: dict[str, list[float]], n_topics: int, num_cells: list[int]):\n",
    "    for i in range(n_topics):\n",
    "        dash_lens = [(1,1),(2,3),(5,1)]\n",
    "        sns.lineplot(data=cv_results[i], x='param_max_depth', y='mean_test_score',\n",
    "                     dashes=dash_lens[i%len(dash_lens)], marker=\"o\", label=f'topic #{i} - ({num_cells[i]} cells)')\n",
    "    plt.xlabel('max random tree depth')\n",
    "    plt.ylabel('mean validation score')\n",
    "    plt.ylim(0.5, 1)\n",
    "    plt.grid(axis = 'y')\n",
    "    plt.legend(bbox_to_anchor=(1.05, 1), loc='upper left')\n",
    "    plt.title(\"Cross Validation of Random Forest for each Cell Type\")\n",
    "plot_cross_validation_per_topic(rf_by_topic.cv_results, n_topics, sample_sizes)"
   ]
  },
  {
   "cell_type": "code",
   "execution_count": null,
   "metadata": {
    "colab": {
     "base_uri": "https://localhost:8080/"
    },
    "id": "51L8BT3u1sQU",
    "outputId": "a5e12a2f-d06e-441d-8557-3e4d63560f15"
   },
   "outputs": [],
   "source": [
    "rf_by_topic.set_best_params_from_cv_results(topic_indexes)\n",
    "rf_by_topic.best_depth"
   ]
  },
  {
   "cell_type": "markdown",
   "metadata": {
    "id": "KzGlVP6-dc8Y"
   },
   "source": [
    "##### fit / score"
   ]
  },
  {
   "cell_type": "code",
   "execution_count": null,
   "metadata": {
    "colab": {
     "base_uri": "https://localhost:8080/"
    },
    "id": "RNn1GDHk3s4n",
    "outputId": "6185f4c0-8b35-48cc-eab4-0df0c28519bf"
   },
   "outputs": [],
   "source": [
    "rf_by_topic.fit(X_train_nm, y_train_nm, W_train_normed)"
   ]
  },
  {
   "cell_type": "code",
   "execution_count": null,
   "metadata": {
    "colab": {
     "base_uri": "https://localhost:8080/"
    },
    "id": "Gp54r7DwDgaE",
    "outputId": "6a93b86f-eeaf-48e8-cd95-5a9f3fcfbcc9"
   },
   "outputs": [],
   "source": [
    "print(rf_by_topic.predict_proba(X_train_nm, W_train_normed))"
   ]
  },
  {
   "cell_type": "code",
   "execution_count": null,
   "metadata": {
    "colab": {
     "base_uri": "https://localhost:8080/"
    },
    "id": "JknWIWsGHSUE",
    "outputId": "8f59f7ec-4d24-479f-83de-9e2ce0c3cfa3"
   },
   "outputs": [],
   "source": [
    "print(rf_by_topic.score(X_train_nm, y_train_nm, W_train_normed))"
   ]
  },
  {
   "cell_type": "code",
   "execution_count": null,
   "metadata": {
    "colab": {
     "base_uri": "https://localhost:8080/"
    },
    "id": "BaU5uPbdxvZH",
    "outputId": "22adbcfe-5e4d-4512-ec87-b23a53fee4f0"
   },
   "outputs": [],
   "source": [
    "print(rf_by_topic.score(X_test_nm, y_test_nm, W_test_normed))"
   ]
  },
  {
   "cell_type": "code",
   "execution_count": null,
   "metadata": {
    "id": "eix96AByKmBH"
   },
   "outputs": [],
   "source": [
    "def make_feature_importance_matrix(model_dict, cellTypes):\n",
    "    num_feat = 27\n",
    "    num_cell_types = len(cellTypes)\n",
    "    toStack = [[0 for i in range(num_feat)] for j in range(num_cell_types)]\n",
    "    for col in range(num_cell_types):\n",
    "        toStack[col] = model_dict[cellTypes[col]].feature_importances_\n",
    "    return np.stack(toStack, axis=1).T\n",
    "feat_importances_by_cell_type = make_feature_importance_matrix(rf_by_topic.models, topic_indexes)"
   ]
  },
  {
   "cell_type": "code",
   "execution_count": null,
   "metadata": {
    "colab": {
     "base_uri": "https://localhost:8080/"
    },
    "id": "ILT1FEFdK-dE",
    "outputId": "37c2fea1-b7d8-4701-b005-b52764b85202"
   },
   "outputs": [],
   "source": [
    "def make_test_accuracy_and_sizes_array(model_, X_, y_, topic_props_, cellTypes_):\n",
    "    accuracies = []\n",
    "    sizes = []\n",
    "    for cellType in cellTypes_:\n",
    "        (X_subset, y_subset) = model_.subset_cells_by_topic(X_, y_, topic_props_, cellType)\n",
    "        accuracies.append(model_.models[cellType].score(X_subset, y_subset))\n",
    "        sizes.append(len(y_subset))\n",
    "    return np.array([accuracies,sizes])\n",
    "test_accuracy_and_sizes_by_cell_type = make_test_accuracy_and_sizes_array(rf_by_topic, X_test_nm, y_test_nm, W_test_normed, topic_indexes)\n",
    "print(test_accuracy_and_sizes_by_cell_type)"
   ]
  },
  {
   "cell_type": "code",
   "execution_count": null,
   "metadata": {
    "colab": {
     "base_uri": "https://localhost:8080/",
     "height": 385
    },
    "id": "vF3qruIxK-dG",
    "outputId": "907ab68d-2f12-4db7-80c9-9204ee3701de"
   },
   "outputs": [],
   "source": [
    "fig = plt.figure(figsize=(10, 3))\n",
    "gs = gridspec.GridSpec(1, 3, width_ratios=[5, 1, 1])\n",
    "\n",
    "# left subplot\n",
    "ax1 = plt.subplot(gs[0])\n",
    "sns.heatmap(feat_importances_by_cell_type, cmap='BuPu', vmax=0.2, ax=ax1,\n",
    "            xticklabels=adata_smkr.var_names, yticklabels=topic_names)\n",
    "ax1.set_title(\"Feature Importances\\n(mean decrease in gini importance)\")\n",
    "\n",
    "# mid subplot\n",
    "ax2 = plt.subplot(gs[1])\n",
    "sns.heatmap(test_accuracy_and_sizes_by_cell_type[0,:].reshape((8,1))*100, vmin=40, vmax=100, cmap='YlOrBr', ax=ax2,\n",
    "            xticklabels=[\"test %\\naccuracy\"], yticklabels=[], annot=True, fmt=\".1f\")\n",
    "plt.xticks(rotation=90)\n",
    "\n",
    "# right subplot\n",
    "ax3 = plt.subplot(gs[2])\n",
    "sns.heatmap(test_accuracy_and_sizes_by_cell_type[1,:].reshape((8,1)), vmin=0, vmax=30000, cmap='Greys', ax=ax3,\n",
    "            xticklabels=[\"# of\\ntest cells\"], yticklabels=[], annot=True, fmt=\".0f\")\n",
    "plt.xticks(rotation=90)\n",
    "plt.show()"
   ]
  },
  {
   "cell_type": "markdown",
   "metadata": {
    "id": "783nia11ZyPM"
   },
   "source": [
    "# Garbage / Experimental"
   ]
  },
  {
   "cell_type": "code",
   "execution_count": null,
   "metadata": {
    "id": "yUIaWDFLNxbE",
    "outputId": "ed4b460e-eea9-4893-e278-96741d3b7b63"
   },
   "outputs": [],
   "source": [
    "import warnings\n",
    "warnings.filterwarnings(\"ignore\", category=UserWarning, module=\"sklearn.base\")\n",
    "rf_test = grid_search_by_cell_type.models[Xabc.iloc[0,:][\"CellType\"]]\n",
    "\n",
    "rf_test.predict(Xabc.iloc[4,0:27].values.reshape(1,-1))"
   ]
  }
 ],
 "metadata": {
  "accelerator": "GPU",
  "colab": {
   "provenance": [],
   "toc_visible": true
  },
  "gpuClass": "standard",
  "kernelspec": {
   "display_name": "Python 3",
   "language": "python",
   "name": "python3"
  },
  "language_info": {
   "codemirror_mode": {
    "name": "ipython",
    "version": 2
   },
   "file_extension": ".py",
   "mimetype": "text/x-python",
   "name": "python",
   "nbconvert_exporter": "python",
   "pygments_lexer": "ipython2",
   "version": "2.7.6"
  }
 },
 "nbformat": 4,
 "nbformat_minor": 0
}
